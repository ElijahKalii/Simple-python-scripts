{
  "nbformat": 4,
  "nbformat_minor": 0,
  "metadata": {
    "colab": {
      "name": "Python practice questions and answers",
      "provenance": [],
      "collapsed_sections": []
    },
    "kernelspec": {
      "name": "python3",
      "display_name": "Python 3"
    },
    "language_info": {
      "name": "python"
    }
  },
  "cells": [
    {
      "cell_type": "code",
      "metadata": {
        "id": "HufrR7MBssKJ"
      },
      "source": [
        ""
      ],
      "execution_count": null,
      "outputs": []
    },
    {
      "cell_type": "markdown",
      "metadata": {
        "id": "WhgeGjxUsz0y"
      },
      "source": [
        ""
      ]
    },
    {
      "cell_type": "markdown",
      "metadata": {
        "id": "IzQdvvdWtQDJ"
      },
      "source": [
        "1. We are having 3 list like this\n",
        "\n",
        "Colors = [“Yellow”,”Green”,”White”,”Black”]\n",
        "\n",
        "Fruits=[“Apple”,”Papaya”,”Mango”,”Orange”]\n",
        "\n",
        "Animals=[“Tiger”,”Lion”,”Deer”,”Zebra”]\n",
        "\n",
        "  i. Write a program that asks user to enter a Color/Fruit/Animal name and it should tell which category belongs to , like its is a fruit or color or Animal\n"
      ]
    },
    {
      "cell_type": "code",
      "metadata": {
        "colab": {
          "base_uri": "https://localhost:8080/",
          "height": 0
        },
        "id": "Mnzx4rpF-cyx",
        "outputId": "66fce6f0-060a-4de1-9429-0586c972596d"
      },
      "source": [
        "Colors = [\"Yellow\",\"Green\",\"White\", \"Black\"]\n",
        "Fruits=[\"Apple\",\"Papaya\",\"Mango\",\"Orange\"]\n",
        "Animals=[\"Tiger\", \"Lion\", \"Deer\", \"Zebra\"]\n",
        "\n",
        "user_choice = input('Enter a Color/Fruit/Animal: ')\n",
        "if user_choice in Colors:\n",
        "  print(f'{user_choice} is a Color')\n",
        "elif user_choice in Fruits:\n",
        "  print(f'{user_choice} is a Fruit')\n",
        "elif user_choice in Animals:\n",
        "  print(f'{user_choice} is an Animal')\n",
        "else:\n",
        "  print('Please try again')"
      ],
      "execution_count": 60,
      "outputs": [
        {
          "output_type": "stream",
          "text": [
            "Enter a Color/Fruit/Animal: wewe\n",
            "Please try again\n"
          ],
          "name": "stdout"
        }
      ]
    },
    {
      "cell_type": "markdown",
      "metadata": {
        "id": "xYYQ7qPMJlZr"
      },
      "source": [
        "\n",
        " ii. Write a program that asks user to enter two cities and it tells you if they both are in same country or not. For example if I enter yellow and Black, it will print \"Both are colors\" but if I enter yellow and Tiger it should print \"They don't belong to same category\""
      ]
    },
    {
      "cell_type": "code",
      "metadata": {
        "colab": {
          "base_uri": "https://localhost:8080/",
          "height": 0
        },
        "id": "1kfIrDzVJoTC",
        "outputId": "30395add-130f-41ed-ffc3-bfa3f00c15c1"
      },
      "source": [
        "Colors = [\"Yellow\",\"Green\",\"White\", \"Black\"]\n",
        "Fruits=[\"Apple\",\"Papaya\",\"Mango\",\"Orange\"]\n",
        "Animals=[\"Tiger\", \"Lion\", \"Deer\", \"Zebra\"]\n",
        "\n",
        "pair_choice1 = input('Enter the first Color/Fruit/Animal: ')\n",
        "pair_choice2 = input('Enter the second Color/Fruit/Animal: ')\n",
        "\n",
        "if pair_choice1 in Colors and pair_choice2 in Colors:\n",
        "  print(f'{pair_choice1} and {pair_choice2} are both Colors') \n",
        "elif pair_choice1 in Fruits and pair_choice2 in Fruits:\n",
        "  print(f'{pair_choice1} and {pair_choice2} are both Fruits') \n",
        "elif pair_choice1 in Animals and pair_choice2 in Animals:\n",
        "  print(f'{pair_choice1} and {pair_choice2} are both Animals') \n",
        "else:\n",
        "  print(f'{pair_choice1} and {pair_choice2} dont belong to the same category') "
      ],
      "execution_count": 56,
      "outputs": [
        {
          "output_type": "stream",
          "text": [
            "Enter the first Color/Fruit/Animal: Orange\n",
            "Enter the second Color/Fruit/Animal: Yellow\n",
            "Orange and Yellow dont belong to the same category\n"
          ],
          "name": "stdout"
        }
      ]
    },
    {
      "cell_type": "markdown",
      "metadata": {
        "id": "2j1vgKyttIir"
      },
      "source": [
        "2.  Write a python program that can tell you if your grade score good or not . Good Score range is 40 to 60.\n",
        "\n",
        "  i. Ask user to enter his score.\n",
        "\n",
        "  ii. If it is below 40 to 60 range then print that score is low\n",
        "\n",
        "  iii. If it is above 60 then print that it is good otherwise print that it is normal"
      ]
    },
    {
      "cell_type": "code",
      "metadata": {
        "colab": {
          "base_uri": "https://localhost:8080/",
          "height": 0
        },
        "id": "9d5eF30Z81-X",
        "outputId": "1be994e0-27a6-4188-ad89-fd8146c8d8bb"
      },
      "source": [
        "score = int(input('Enter your score: '))\n",
        "if score < 40:\n",
        "  print('Sorry. Your Score is low.')\n",
        "elif score <=60:\n",
        "  print('Congrats. That is a normal score.')\n",
        "else: \n",
        "  print('Congrats. You Scored a good score.') "
      ],
      "execution_count": 61,
      "outputs": [
        {
          "output_type": "stream",
          "text": [
            "Enter your score: 65\n",
            "Congrats. You Scored a good score.\n"
          ],
          "name": "stdout"
        }
      ]
    },
    {
      "cell_type": "markdown",
      "metadata": {
        "id": "5ruKo77NtqqK"
      },
      "source": [
        "3.  After appearing in exam 10 times you got this result,\n",
        "\n",
        "result = [\"Pass\",\"Fail\",\"Fail\",\"Pass\",\"Fail\",\"Pass\",\"Pass\",\"Fail\",\"Fail\",\"Fail\"]\n",
        "\n",
        "Using for loop figure out how many times you got Pass"
      ]
    },
    {
      "cell_type": "code",
      "metadata": {
        "colab": {
          "base_uri": "https://localhost:8080/",
          "height": 0
        },
        "id": "1CINXy_J7Knr",
        "outputId": "5c259925-7cbf-41cc-9a4b-bbd15108478d"
      },
      "source": [
        "result = [\"Pass\",\"Fail\",\"Fail\",\"Pass\",\"Fail\",\"Pass\",\"Pass\",\"Fail\",\"Fail\",\"Fail\"]\n",
        "pass_count = 0\n",
        "for i in result:\n",
        "  if i == 'Pass':\n",
        "    pass_count +=1\n",
        "print(pass_count)"
      ],
      "execution_count": 62,
      "outputs": [
        {
          "output_type": "stream",
          "text": [
            "4\n"
          ],
          "name": "stdout"
        }
      ]
    },
    {
      "cell_type": "markdown",
      "metadata": {
        "id": "Dm3hRlZmttcf"
      },
      "source": [
        "4.  Write a program that prints following shape"
      ]
    },
    {
      "cell_type": "code",
      "metadata": {
        "colab": {
          "base_uri": "https://localhost:8080/",
          "height": 0
        },
        "id": "dEuRqGoM5Xa6",
        "outputId": "ce516dde-476c-4a13-b259-360d14e48f73"
      },
      "source": [
        "for i in range(10):\n",
        "  for j in range(i):\n",
        "    print('*', end='')\n",
        "  print()\n",
        "for i in range(10,0,-1):\n",
        "  for j in range(i):\n",
        "    print('*', end='')\n",
        "  print()"
      ],
      "execution_count": 9,
      "outputs": [
        {
          "output_type": "stream",
          "text": [
            "\n",
            "*\n",
            "**\n",
            "***\n",
            "****\n",
            "*****\n",
            "******\n",
            "*******\n",
            "********\n",
            "*********\n",
            "**********\n",
            "*********\n",
            "********\n",
            "*******\n",
            "******\n",
            "*****\n",
            "****\n",
            "***\n",
            "**\n",
            "*\n"
          ],
          "name": "stdout"
        }
      ]
    },
    {
      "cell_type": "markdown",
      "metadata": {
        "id": "Pxv71kj3t-r-"
      },
      "source": [
        "5.   Lets say you are running a 50 km race. Write a program that,\n",
        "\n",
        "Upon completing each 10 km asks you \"are you tired?\"\n",
        "If you reply \"yes\" then it should break and print \"you didn't finish the race\"\n",
        " If you reply \"no\" then it should continue and ask \"are you tired\" on every km\n",
        "If you finish all 50 km then it should print congratulations message"
      ]
    },
    {
      "cell_type": "markdown",
      "metadata": {
        "id": "p-aN9MLHuBvH"
      },
      "source": [
        "6.  Write a Python program to find those numbers which are divisible by 7 and multiple of 5, between 1500 and 2700 (both included)."
      ]
    },
    {
      "cell_type": "code",
      "metadata": {
        "id": "StVXUiQeNxqv"
      },
      "source": [
        "for i in range (11):\n",
        "  print(f'km {i}')\n",
        "  if i == 10:\n",
        "    check=input('Are you tired? ')\n",
        "    if check == 'yes':\n",
        "      print('You didnt finish the race.')\n",
        "      break\n",
        "    for j in range(11,51):\n",
        "      check2 = input(f'km {j}: Are you tired?')\n",
        "      if check2 == 'yes':\n",
        "        print('You didnt finish the race.')\n",
        "        break\n",
        "      if j == 50:\n",
        "        print('Congratulations')"
      ],
      "execution_count": null,
      "outputs": []
    },
    {
      "cell_type": "markdown",
      "metadata": {
        "id": "uQMA2A1kuE7v"
      },
      "source": [
        "7.   Print square of all numbers between 10 to 20 except even numbers"
      ]
    },
    {
      "cell_type": "code",
      "metadata": {
        "id": "EyQJXnkdhI7z"
      },
      "source": [
        "for i in range (11, 21, 2):\n",
        "  square = i**2\n",
        "  print(square)"
      ],
      "execution_count": null,
      "outputs": []
    },
    {
      "cell_type": "markdown",
      "metadata": {
        "id": "vtm5_zSFuE--"
      },
      "source": [
        "8.  Your Marks for five Test(test1 to test5) looks like this,\n",
        "\n",
        "marks_list = [65, 75, 2100, 95, 83]\n",
        "\n",
        "Write a program that asks you to enter marks and program should tell you in which test that marks occurred. If marks is not found then it should print that as well."
      ]
    },
    {
      "cell_type": "code",
      "metadata": {
        "colab": {
          "base_uri": "https://localhost:8080/",
          "height": 0
        },
        "id": "ftT-KQsiszJJ",
        "outputId": "73b269bd-925a-43f5-8705-fbd584cf33cf"
      },
      "source": [
        "marks_list = [65, 75, 2100, 95, 83]\n",
        "\n",
        "marks = int(input('Enter marks: '))\n",
        "if marks in marks_list:\n",
        "  print(f'Those marks are for test:{marks_list.index(marks)+1}')\n",
        "else:\n",
        "  print('Test not found')"
      ],
      "execution_count": 158,
      "outputs": [
        {
          "output_type": "stream",
          "text": [
            "Enter marks: 89\n",
            "Test not found\n"
          ],
          "name": "stdout"
        }
      ]
    }
  ]
}